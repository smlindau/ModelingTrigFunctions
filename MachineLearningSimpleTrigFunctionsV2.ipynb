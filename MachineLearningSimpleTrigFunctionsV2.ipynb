{
  "nbformat": 4,
  "nbformat_minor": 0,
  "metadata": {
    "colab": {
      "name": "MachineLearningSimpleTrigFunctions.ipynb",
      "version": "0.3.2",
      "provenance": [],
      "include_colab_link": true
    },
    "language_info": {
      "codemirror_mode": {
        "name": "ipython",
        "version": 3
      },
      "file_extension": ".py",
      "mimetype": "text/x-python",
      "name": "python",
      "nbconvert_exporter": "python",
      "pygments_lexer": "ipython3",
      "version": "3.7.3"
    },
    "kernelspec": {
      "name": "python3",
      "display_name": "Python 3"
    },
    "accelerator": "GPU"
  },
  "cells": [
    {
      "cell_type": "markdown",
      "metadata": {
        "id": "view-in-github",
        "colab_type": "text"
      },
      "source": [
        "<a href=\"https://colab.research.google.com/github/smlindau/ModelingTrigFunctions/blob/master/MachineLearningSimpleTrigFunctionsV2.ipynb\" target=\"_parent\"><img src=\"https://colab.research.google.com/assets/colab-badge.svg\" alt=\"Open In Colab\"/></a>"
      ]
    },
    {
      "cell_type": "code",
      "metadata": {
        "id": "WC5msCVZaFgc",
        "colab_type": "code",
        "colab": {
          "base_uri": "https://localhost:8080/",
          "height": 34
        },
        "outputId": "22ed3213-eb1b-4b9d-9c0b-2136f16ded80"
      },
      "source": [
        "from tensorflow import keras\n",
        "from keras.models import Sequential\n",
        "from keras.layers import Dense\n",
        "from keras.layers import Activation\n",
        "from keras.utils.generic_utils import get_custom_objects\n",
        "import numpy as np\n",
        "import sklearn.datasets\n",
        "import matplotlib.pyplot as plt\n",
        "import pandas as pd\n",
        "np.random.seed(7)"
      ],
      "execution_count": 1,
      "outputs": [
        {
          "output_type": "stream",
          "text": [
            "Using TensorFlow backend.\n"
          ],
          "name": "stderr"
        }
      ]
    },
    {
      "cell_type": "code",
      "metadata": {
        "id": "5TzImteIaFgk",
        "colab_type": "code",
        "colab": {}
      },
      "source": [
        "T = 1000\n",
        "X = np.array(range(T))\n",
        "X = np.arange(-1,1,0.001)\n",
        "Y = 0.5 * (np.sin(4*np.pi*X)) #+ 0.25 * np.sin(20*np.pi*X) - 0.125 * np.sin(15*np.pi*X)"
      ],
      "execution_count": 0,
      "outputs": []
    },
    {
      "cell_type": "code",
      "metadata": {
        "id": "N089tmsTaFgn",
        "colab_type": "code",
        "outputId": "f33b2c40-f755-41f8-e3cf-41aabebede63",
        "colab": {
          "base_uri": "https://localhost:8080/",
          "height": 269
        }
      },
      "source": [
        "plt.scatter(X, Y, s = 10)\n",
        "plt.show()"
      ],
      "execution_count": 3,
      "outputs": [
        {
          "output_type": "display_data",
          "data": {
            "image/png": "[encoded data removed]",
            "text/plain": [
              "<Figure size 432x288 with 1 Axes>"
            ]
          },
          "metadata": {
            "tags": []
          }
        }
      ]
    },
    {
      "cell_type": "code",
      "metadata": {
        "id": "I9VFH3FfaFgr",
        "colab_type": "code",
        "colab": {
          "base_uri": "https://localhost:8080/",
          "height": 190
        },
        "outputId": "2b4c5387-7475-4efd-e56b-21002f30704f"
      },
      "source": [
        "alpha = 2\n",
        "inputNodes = 1\n",
        "outputNodes = 1\n",
        "trainFraction = 0.8\n",
        "\n",
        "def custom_activation(x):\n",
        "  return(keras.backend.sin(3.14*x))\n",
        "\n",
        "get_custom_objects().update({'custom_activation': Activation(custom_activation)})\n",
        "\n",
        "numNodes = int(int(trainFraction*len(X))/(alpha*(inputNodes + outputNodes)))\n",
        "model = Sequential()\n",
        "model.add(Dense(numNodes, input_dim = 1, activation = custom_activation))\n",
        "#model.add(Dense(numNodes, activation = 'relu'))\n",
        "model.add(Dense(outputNodes))\n",
        "\n",
        "model.compile(loss = 'mean_squared_error', optimizer = 'adam')"
      ],
      "execution_count": 4,
      "outputs": [
        {
          "output_type": "stream",
          "text": [
            "WARNING: Logging before flag parsing goes to stderr.\n",
            "W0625 17:54:10.236799 140160774158208 deprecation_wrapper.py:119] From /usr/local/lib/python3.6/dist-packages/keras/backend/tensorflow_backend.py:74: The name tf.get_default_graph is deprecated. Please use tf.compat.v1.get_default_graph instead.\n",
            "\n",
            "W0625 17:54:10.260264 140160774158208 deprecation_wrapper.py:119] From /usr/local/lib/python3.6/dist-packages/keras/backend/tensorflow_backend.py:517: The name tf.placeholder is deprecated. Please use tf.compat.v1.placeholder instead.\n",
            "\n",
            "W0625 17:54:10.266134 140160774158208 deprecation_wrapper.py:119] From /usr/local/lib/python3.6/dist-packages/keras/backend/tensorflow_backend.py:4138: The name tf.random_uniform is deprecated. Please use tf.random.uniform instead.\n",
            "\n",
            "W0625 17:54:10.402195 140160774158208 deprecation_wrapper.py:119] From /usr/local/lib/python3.6/dist-packages/keras/optimizers.py:790: The name tf.train.Optimizer is deprecated. Please use tf.compat.v1.train.Optimizer instead.\n",
            "\n"
          ],
          "name": "stderr"
        }
      ]
    },
    {
      "cell_type": "code",
      "metadata": {
        "scrolled": true,
        "id": "q47E8vDZaFgv",
        "colab_type": "code",
        "outputId": "d1cf45e9-e5f2-4f12-a867-d3fa037d3442",
        "colab": {
          "base_uri": "https://localhost:8080/",
          "height": 105
        }
      },
      "source": [
        "batchSize = 10000\n",
        "earlyStop = keras.callbacks.EarlyStopping(monitor = 'loss', patience = 100, verbose = 1, mode = 'min')\n",
        "#history = model.fit(X, Y, epochs = 100, validation_split = 0.25, verbose = 0, callbacks = [earlyStop])\n",
        "history = model.fit(X[:int((trainFraction)*len(X))], Y[:int((trainFraction)*len(X))], epochs = 1000, \n",
        "                    validation_data = (X[-int((1-trainFraction)*len(X)):],Y[-int((1-trainFraction)*len(X)):]), \n",
        "                    verbose = 0, callbacks = [earlyStop], batch_size = batchSize)"
      ],
      "execution_count": 5,
      "outputs": [
        {
          "output_type": "stream",
          "text": [
            "W0625 17:54:10.540762 140160774158208 deprecation_wrapper.py:119] From /usr/local/lib/python3.6/dist-packages/keras/backend/tensorflow_backend.py:986: The name tf.assign_add is deprecated. Please use tf.compat.v1.assign_add instead.\n",
            "\n",
            "W0625 17:54:10.606645 140160774158208 deprecation_wrapper.py:119] From /usr/local/lib/python3.6/dist-packages/keras/backend/tensorflow_backend.py:973: The name tf.assign is deprecated. Please use tf.compat.v1.assign instead.\n",
            "\n"
          ],
          "name": "stderr"
        }
      ]
    },
    {
      "cell_type": "code",
      "metadata": {
        "id": "8TKZmVB_aFgy",
        "colab_type": "code",
        "colab": {
          "base_uri": "https://localhost:8080/",
          "height": 204
        },
        "outputId": "ce01b721-87f5-4e41-a3ef-e51f7822b568"
      },
      "source": [
        "hist = pd.DataFrame(history.history)\n",
        "hist['epoch'] = history.epoch\n",
        "hist.tail()"
      ],
      "execution_count": 6,
      "outputs": [
        {
          "output_type": "execute_result",
          "data": {
            "text/html": [
              "<div>\n",
              "<style scoped>\n",
              "    .dataframe tbody tr th:only-of-type {\n",
              "        vertical-align: middle;\n",
              "    }\n",
              "\n",
              "    .dataframe tbody tr th {\n",
              "        vertical-align: top;\n",
              "    }\n",
              "\n",
              "    .dataframe thead th {\n",
              "        text-align: right;\n",
              "    }\n",
              "</style>\n",
              "<table border=\"1\" class=\"dataframe\">\n",
              "  <thead>\n",
              "    <tr style=\"text-align: right;\">\n",
              "      <th></th>\n",
              "      <th>val_loss</th>\n",
              "      <th>loss</th>\n",
              "      <th>epoch</th>\n",
              "    </tr>\n",
              "  </thead>\n",
              "  <tbody>\n",
              "    <tr>\n",
              "      <th>995</th>\n",
              "      <td>0.108488</td>\n",
              "      <td>0.115281</td>\n",
              "      <td>995</td>\n",
              "    </tr>\n",
              "    <tr>\n",
              "      <th>996</th>\n",
              "      <td>0.108498</td>\n",
              "      <td>0.115275</td>\n",
              "      <td>996</td>\n",
              "    </tr>\n",
              "    <tr>\n",
              "      <th>997</th>\n",
              "      <td>0.108502</td>\n",
              "      <td>0.115268</td>\n",
              "      <td>997</td>\n",
              "    </tr>\n",
              "    <tr>\n",
              "      <th>998</th>\n",
              "      <td>0.108511</td>\n",
              "      <td>0.115261</td>\n",
              "      <td>998</td>\n",
              "    </tr>\n",
              "    <tr>\n",
              "      <th>999</th>\n",
              "      <td>0.108517</td>\n",
              "      <td>0.115254</td>\n",
              "      <td>999</td>\n",
              "    </tr>\n",
              "  </tbody>\n",
              "</table>\n",
              "</div>"
            ],
            "text/plain": [
              "     val_loss      loss  epoch\n",
              "995  0.108488  0.115281    995\n",
              "996  0.108498  0.115275    996\n",
              "997  0.108502  0.115268    997\n",
              "998  0.108511  0.115261    998\n",
              "999  0.108517  0.115254    999"
            ]
          },
          "metadata": {
            "tags": []
          },
          "execution_count": 6
        }
      ]
    },
    {
      "cell_type": "code",
      "metadata": {
        "scrolled": true,
        "id": "6zcZMla7aFg3",
        "colab_type": "code",
        "colab": {
          "base_uri": "https://localhost:8080/",
          "height": 284
        },
        "outputId": "70fe116c-bf17-4a25-f4b1-b9ab7ff98e88"
      },
      "source": [
        "def plotHistory(history):\n",
        "    hist = pd.DataFrame(history.history)\n",
        "    hist['epoch'] = history.epoch\n",
        "  \n",
        "    plt.figure()\n",
        "    plt.xlabel('Epoch')\n",
        "    plt.ylabel('Loss')\n",
        "    plt.plot(hist['epoch'], hist['loss'],\n",
        "             label='loss')\n",
        "    plt.plot(hist['epoch'], hist['val_loss'],\n",
        "             label = 'val_loss')\n",
        "    #plt.ylim([0,5])\n",
        "    plt.legend()\n",
        "    plt.show()\n",
        "\n",
        "plotHistory(history)"
      ],
      "execution_count": 7,
      "outputs": [
        {
          "output_type": "display_data",
          "data": {
            "image/png": "[encoded data removed]",
            "text/plain": [
              "<Figure size 432x288 with 1 Axes>"
            ]
          },
          "metadata": {
            "tags": []
          }
        }
      ]
    },
    {
      "cell_type": "code",
      "metadata": {
        "id": "ewYTZgoQaFg7",
        "colab_type": "code",
        "colab": {
          "base_uri": "https://localhost:8080/",
          "height": 269
        },
        "outputId": "80d3ce41-d838-47d3-9802-504d6215353e"
      },
      "source": [
        "prediction = model.predict(X)\n",
        "x_plot = X\n",
        "plt.scatter(x_plot, prediction, s = 1, c = 'r')\n",
        "plt.scatter(x_plot, Y, s = 1, c = 'b')\n",
        "plt.axvline(x = 0.6)\n",
        "plt.show()"
      ],
      "execution_count": 8,
      "outputs": [
        {
          "output_type": "display_data",
          "data": {
            "image/png": "[encoded data removed]",
            "text/plain": [
              "<Figure size 432x288 with 1 Axes>"
            ]
          },
          "metadata": {
            "tags": []
          }
        }
      ]
    }
  ]
}